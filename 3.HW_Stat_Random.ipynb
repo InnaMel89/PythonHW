{
 "cells": [
  {
   "cell_type": "code",
   "execution_count": 2,
   "metadata": {},
   "outputs": [],
   "source": [
    "import numpy as np"
   ]
  },
  {
   "cell_type": "code",
   "execution_count": 52,
   "metadata": {},
   "outputs": [],
   "source": [
    "games = 1\n",
    "trials = 100000\n",
    "prize = 0\n",
    "\n",
    "for i in range(trials):\n",
    "    random_score = np.random.randint(000, 999)   \n",
    "    if random_score == 777:\n",
    "        prize = prize + 200\n",
    "    elif random_score == 999:\n",
    "        prize = prize + 100\n",
    "    elif random_score == 555:\n",
    "        prize = prize + 50\n",
    "    elif random_score == 333:\n",
    "        prize = prize + 15\n",
    "    elif random_score == 111:\n",
    "        prize = prize + 10\n",
    "    elif random_score % 100 == 77:\n",
    "        prize = prize + 5\n",
    "    elif random_score % 10 == 7:\n",
    "        prize = prize + 3\n",
    "    elif random_score % 100 == 0:\n",
    "        prize = prize + 2\n",
    "    elif random_score % 10 == 0:\n",
    "        prize = prize + 1\n",
    "        \n",
    "total = prize - trials"
   ]
  },
  {
   "cell_type": "code",
   "execution_count": 53,
   "metadata": {},
   "outputs": [
    {
     "name": "stdout",
     "output_type": "stream",
     "text": [
      "-29872\n"
     ]
    }
   ],
   "source": [
    "print(total)"
   ]
  },
  {
   "cell_type": "markdown",
   "metadata": {},
   "source": [
    "### Выгодна ли игра игроку?"
   ]
  },
  {
   "cell_type": "code",
   "execution_count": 54,
   "metadata": {},
   "outputs": [
    {
     "name": "stdout",
     "output_type": "stream",
     "text": [
      "Игра не выгодна\n"
     ]
    }
   ],
   "source": [
    "if total > 0:\n",
    "    print('Игра выгодна')\n",
    "else:\n",
    "    print('Игра не выгодна')"
   ]
  },
  {
   "cell_type": "markdown",
   "metadata": {},
   "source": [
    "### Сколько в среднем приобретает или теряет игрок за одну игру?"
   ]
  },
  {
   "cell_type": "code",
   "execution_count": 56,
   "metadata": {},
   "outputs": [
    {
     "name": "stdout",
     "output_type": "stream",
     "text": [
      "-29872.0\n"
     ]
    }
   ],
   "source": [
    "win = total / games\n",
    "print(average)"
   ]
  }
 ],
 "metadata": {
  "kernelspec": {
   "display_name": "Python 3",
   "language": "python",
   "name": "python3"
  },
  "language_info": {
   "codemirror_mode": {
    "name": "ipython",
    "version": 3
   },
   "file_extension": ".py",
   "mimetype": "text/x-python",
   "name": "python",
   "nbconvert_exporter": "python",
   "pygments_lexer": "ipython3",
   "version": "3.8.5"
  }
 },
 "nbformat": 4,
 "nbformat_minor": 4
}
