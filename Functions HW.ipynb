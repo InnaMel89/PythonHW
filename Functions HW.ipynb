{
 "cells": [
  {
   "cell_type": "code",
   "execution_count": 37,
   "metadata": {},
   "outputs": [],
   "source": [
    "documents = [\n",
    "{'type': 'passport', 'number': '2207 876234', 'name': 'Василий Гупкин'},\n",
    "{'type': 'invoice', 'number': '11-2', 'name': 'Геннадий Покемонов'},\n",
    "{'type': 'insurance', 'number': '10006', 'name': 'Аристарх Павлов'}\n",
    "]"
   ]
  },
  {
   "cell_type": "code",
   "execution_count": 38,
   "metadata": {},
   "outputs": [],
   "source": [
    "directories = {\n",
    "'1': ['2207 876234', '11-2'],\n",
    "'2': ['10006'],\n",
    "'3': []\n",
    "}"
   ]
  },
  {
   "cell_type": "code",
   "execution_count": null,
   "metadata": {},
   "outputs": [],
   "source": [
    "# 1.1 Найти пользователя по номеру"
   ]
  },
  {
   "cell_type": "code",
   "execution_count": 39,
   "metadata": {},
   "outputs": [],
   "source": [
    "def doc_holder():\n",
    "    num = input ('Введите номер документа: ')\n",
    "    for i in documents:\n",
    "        if num == i['number']:\n",
    "            return(i['name'])\n",
    "    return('Документ не найден в базе')"
   ]
  },
  {
   "cell_type": "code",
   "execution_count": 40,
   "metadata": {},
   "outputs": [
    {
     "name": "stdout",
     "output_type": "stream",
     "text": [
      "Введите номер документа: 10006\n"
     ]
    },
    {
     "data": {
      "text/plain": [
       "'Аристарх Павлов'"
      ]
     },
     "execution_count": 40,
     "metadata": {},
     "output_type": "execute_result"
    }
   ],
   "source": [
    "doc_holder()"
   ]
  },
  {
   "cell_type": "code",
   "execution_count": null,
   "metadata": {},
   "outputs": [],
   "source": [
    "# 1.2 Найти полку по номеру документа"
   ]
  },
  {
   "cell_type": "code",
   "execution_count": 41,
   "metadata": {},
   "outputs": [],
   "source": [
    "def doc_place():\n",
    "    num = input ('Введите номер документа: ')\n",
    "    for i in directories:\n",
    "        if num in directories[i]:\n",
    "             return('Документ хранится на полке: ' + i)\n",
    "    return('Документ не найден в базе')"
   ]
  },
  {
   "cell_type": "code",
   "execution_count": 42,
   "metadata": {},
   "outputs": [
    {
     "name": "stdout",
     "output_type": "stream",
     "text": [
      "Введите номер документа: 10006\n"
     ]
    },
    {
     "data": {
      "text/plain": [
       "'Документ хранится на полке: 2'"
      ]
     },
     "execution_count": 42,
     "metadata": {},
     "output_type": "execute_result"
    }
   ],
   "source": [
    "doc_place()"
   ]
  },
  {
   "cell_type": "code",
   "execution_count": null,
   "metadata": {},
   "outputs": [],
   "source": [
    "# 1.3 Вывести всю информацию"
   ]
  },
  {
   "cell_type": "code",
   "execution_count": 43,
   "metadata": {},
   "outputs": [],
   "source": [
    "def all_info():\n",
    "    for i in documents:\n",
    "        for key, value in directories.items():\n",
    "            if i['number'] in value:\n",
    "                print(f\"№: {i['number']}, тип: {i['type']}, владелец: {i['name']}, полка хранения: {key}\")"
   ]
  },
  {
   "cell_type": "code",
   "execution_count": 44,
   "metadata": {},
   "outputs": [
    {
     "name": "stdout",
     "output_type": "stream",
     "text": [
      "№: 2207 876234, тип: passport, владелец: Василий Гупкин, полка хранения: 1\n",
      "№: 11-2, тип: invoice, владелец: Геннадий Покемонов, полка хранения: 1\n",
      "№: 10006, тип: insurance, владелец: Аристарх Павлов, полка хранения: 2\n"
     ]
    }
   ],
   "source": [
    "all_info()"
   ]
  },
  {
   "cell_type": "code",
   "execution_count": null,
   "metadata": {},
   "outputs": [],
   "source": [
    "# 1.4  Добавить полку"
   ]
  },
  {
   "cell_type": "code",
   "execution_count": 45,
   "metadata": {},
   "outputs": [],
   "source": [
    "def add_shelf():\n",
    "    num = input ('Введите номер полки: ')\n",
    "    if num in directories:\n",
    "        return 'Такая полка уже существует. Текущий перечень полок: ', list(directories.keys())\n",
    "    else: \n",
    "        directories[num] = []\n",
    "        return 'Полка добавлена. Текущий перечень полок: ', list(directories.keys())"
   ]
  },
  {
   "cell_type": "code",
   "execution_count": 47,
   "metadata": {},
   "outputs": [
    {
     "name": "stdout",
     "output_type": "stream",
     "text": [
      "Введите номер полки: 15\n"
     ]
    },
    {
     "data": {
      "text/plain": [
       "('Полка добавлена. Текущий перечень полок: ', ['1', '2', '3', '15'])"
      ]
     },
     "execution_count": 47,
     "metadata": {},
     "output_type": "execute_result"
    }
   ],
   "source": [
    "add_shelf()"
   ]
  },
  {
   "cell_type": "code",
   "execution_count": null,
   "metadata": {},
   "outputs": [],
   "source": [
    "# 1.5 Удалить полку"
   ]
  },
  {
   "cell_type": "code",
   "execution_count": 50,
   "metadata": {},
   "outputs": [],
   "source": [
    "def delete_shelf():\n",
    "    num = input ('Введите номер полки: ')\n",
    "    if len(directories[num]) == 0:\n",
    "        del directories[num]\n",
    "        return'Полка удалена. Текущий перечень полок: ', list(directories.keys())\n",
    "    elif len(directories[num]) > 0:\n",
    "        return 'На полке есть документы, удалите их перед удалением полки.', list(directories.keys())\n",
    "    else:\n",
    "        return 'Такой полки не существует. Текущий перечень полок: ', list(directories.keys())"
   ]
  },
  {
   "cell_type": "code",
   "execution_count": null,
   "metadata": {},
   "outputs": [],
   "source": [
    "delete_shelf()"
   ]
  },
  {
   "cell_type": "markdown",
   "metadata": {},
   "source": [
    "# MAIN "
   ]
  },
  {
   "cell_type": "code",
   "execution_count": 21,
   "metadata": {},
   "outputs": [],
   "source": [
    "def main():\n",
    "    while True:\n",
    "        user_input = input('Введите команду: ')\n",
    "        if user_input == 'p':\n",
    "            print(doc_holder())\n",
    "        elif user_input == 's':\n",
    "            print(doc_place())\n",
    "        elif user_input == 'l':\n",
    "            print(all_info())\n",
    "        elif user_input == 'as':\n",
    "            print(add_shelf())\n",
    "        elif user_input == 'ds':\n",
    "            print(delete_shelf())\n",
    "        elif user_input == 'q':\n",
    "            print('Quit!')\n",
    "            break       "
   ]
  },
  {
   "cell_type": "code",
   "execution_count": null,
   "metadata": {},
   "outputs": [],
   "source": [
    "main()"
   ]
  },
  {
   "cell_type": "code",
   "execution_count": null,
   "metadata": {},
   "outputs": [],
   "source": []
  }
 ],
 "metadata": {
  "kernelspec": {
   "display_name": "Python 3",
   "language": "python",
   "name": "python3"
  },
  "language_info": {
   "codemirror_mode": {
    "name": "ipython",
    "version": 3
   },
   "file_extension": ".py",
   "mimetype": "text/x-python",
   "name": "python",
   "nbconvert_exporter": "python",
   "pygments_lexer": "ipython3",
   "version": "3.8.5"
  }
 },
 "nbformat": 4,
 "nbformat_minor": 4
}
