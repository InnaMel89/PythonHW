{
 "cells": [
  {
   "cell_type": "markdown",
   "metadata": {},
   "source": [
    "### Задание 1"
   ]
  },
  {
   "cell_type": "code",
   "execution_count": 6,
   "metadata": {},
   "outputs": [],
   "source": [
    "from datetime import datetime"
   ]
  },
  {
   "cell_type": "code",
   "execution_count": 11,
   "metadata": {},
   "outputs": [],
   "source": [
    "date_Moscow = 'Wednesday, October 2, 2002'\n",
    "date_Guardian = 'Friday, 11.10.13'\n",
    "date_Daily = 'Thursday, 18 August 1977'"
   ]
  },
  {
   "cell_type": "code",
   "execution_count": 17,
   "metadata": {},
   "outputs": [
    {
     "name": "stdout",
     "output_type": "stream",
     "text": [
      "2002-10-02 00:00:00\n"
     ]
    }
   ],
   "source": [
    "datetime_Moscow = datetime.strptime(date_Moscow, '%A, %B %d, %Y')\n",
    "print(datetime_Moscow)"
   ]
  },
  {
   "cell_type": "code",
   "execution_count": 16,
   "metadata": {},
   "outputs": [
    {
     "name": "stdout",
     "output_type": "stream",
     "text": [
      "2013-10-11 00:00:00\n"
     ]
    }
   ],
   "source": [
    "datetime_Guardian = datetime.strptime(date_Guardian, '%A, %d.%m.%y')\n",
    "print(datetime_Guardian)"
   ]
  },
  {
   "cell_type": "code",
   "execution_count": 18,
   "metadata": {},
   "outputs": [
    {
     "name": "stdout",
     "output_type": "stream",
     "text": [
      "1977-08-18 00:00:00\n"
     ]
    }
   ],
   "source": [
    "datetime_Daily = datetime.strptime(date_Daily, '%A, %d %B %Y')\n",
    "print(datetime_Daily)"
   ]
  },
  {
   "cell_type": "markdown",
   "metadata": {},
   "source": [
    "### Задание 2"
   ]
  },
  {
   "cell_type": "code",
   "execution_count": 3,
   "metadata": {},
   "outputs": [],
   "source": [
    "stream = ['2018-04-02', '2018-02-29', '2018-19-02']"
   ]
  },
  {
   "cell_type": "code",
   "execution_count": 54,
   "metadata": {},
   "outputs": [],
   "source": [
    "def correct():\n",
    "    try:\n",
    "        datetime.strptime(dates, '%Y-%m-%d')\n",
    "        return print('True (дата корректна)')\n",
    "    except:\n",
    "        return print('False (некорректная дата)')"
   ]
  },
  {
   "cell_type": "code",
   "execution_count": 140,
   "metadata": {},
   "outputs": [
    {
     "name": "stdout",
     "output_type": "stream",
     "text": [
      "True (дата корректна)\n",
      "False (некорректная дата)\n",
      "False (некорректная дата)\n"
     ]
    }
   ],
   "source": [
    "for dates in stream:\n",
    "    correct()"
   ]
  },
  {
   "cell_type": "markdown",
   "metadata": {},
   "source": [
    "### Задание 3"
   ]
  },
  {
   "cell_type": "code",
   "execution_count": null,
   "metadata": {},
   "outputs": [],
   "source": [
    "from datetime import date, timedelta"
   ]
  },
  {
   "cell_type": "code",
   "execution_count": 137,
   "metadata": {},
   "outputs": [],
   "source": [
    "def date_range (start_date, end_date):\n",
    "    date_list = datetime.strptime(end_date,'%Y-%m-%d')-datetime.strptime(start_date,'%Y-%m-%d')        \n",
    "    if date_list.days <= 0:\n",
    "        return list(range(date_list.days))\n",
    "    else:\n",
    "        for i in range(date_list.days):\n",
    "            print(datetime.strptime(start_date,'%Y-%m-%d')  + timedelta(i))"
   ]
  },
  {
   "cell_type": "code",
   "execution_count": 138,
   "metadata": {},
   "outputs": [
    {
     "data": {
      "text/plain": [
       "[]"
      ]
     },
     "execution_count": 138,
     "metadata": {},
     "output_type": "execute_result"
    }
   ],
   "source": [
    "date_range('2021-08-08', '2021-07-08')"
   ]
  },
  {
   "cell_type": "code",
   "execution_count": 139,
   "metadata": {},
   "outputs": [
    {
     "name": "stdout",
     "output_type": "stream",
     "text": [
      "2021-08-08 00:00:00\n",
      "2021-08-09 00:00:00\n",
      "2021-08-10 00:00:00\n",
      "2021-08-11 00:00:00\n",
      "2021-08-12 00:00:00\n",
      "2021-08-13 00:00:00\n",
      "2021-08-14 00:00:00\n",
      "2021-08-15 00:00:00\n",
      "2021-08-16 00:00:00\n",
      "2021-08-17 00:00:00\n",
      "2021-08-18 00:00:00\n",
      "2021-08-19 00:00:00\n"
     ]
    }
   ],
   "source": [
    "date_range('2021-08-08', '2021-08-20')"
   ]
  },
  {
   "cell_type": "code",
   "execution_count": null,
   "metadata": {},
   "outputs": [],
   "source": []
  }
 ],
 "metadata": {
  "kernelspec": {
   "display_name": "Python 3",
   "language": "python",
   "name": "python3"
  },
  "language_info": {
   "codemirror_mode": {
    "name": "ipython",
    "version": 3
   },
   "file_extension": ".py",
   "mimetype": "text/x-python",
   "name": "python",
   "nbconvert_exporter": "python",
   "pygments_lexer": "ipython3",
   "version": "3.8.5"
  }
 },
 "nbformat": 4,
 "nbformat_minor": 4
}
