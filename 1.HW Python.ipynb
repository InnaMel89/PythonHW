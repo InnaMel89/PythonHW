{
 "cells": [
  {
   "cell_type": "code",
   "execution_count": 8,
   "metadata": {},
   "outputs": [],
   "source": [
    "# Задание 1.1\n",
    "\n",
    "phrase_1 = 'Насколько проще было бы писать программы, если бы не заказчики'"
   ]
  },
  {
   "cell_type": "code",
   "execution_count": 9,
   "metadata": {},
   "outputs": [],
   "source": [
    "phrase_2 = '640Кб должно хватить для любых задач. Билл Гейтс (по легенде)'"
   ]
  },
  {
   "cell_type": "code",
   "execution_count": 10,
   "metadata": {},
   "outputs": [
    {
     "data": {
      "text/plain": [
       "62"
      ]
     },
     "execution_count": 10,
     "metadata": {},
     "output_type": "execute_result"
    }
   ],
   "source": [
    "len(phrase_1)"
   ]
  },
  {
   "cell_type": "code",
   "execution_count": 11,
   "metadata": {},
   "outputs": [
    {
     "data": {
      "text/plain": [
       "61"
      ]
     },
     "execution_count": 11,
     "metadata": {},
     "output_type": "execute_result"
    }
   ],
   "source": [
    "len(phrase_2)"
   ]
  },
  {
   "cell_type": "code",
   "execution_count": 12,
   "metadata": {},
   "outputs": [
    {
     "data": {
      "text/plain": [
       "True"
      ]
     },
     "execution_count": 12,
     "metadata": {},
     "output_type": "execute_result"
    }
   ],
   "source": [
    "phrase_1 > phrase_2"
   ]
  },
  {
   "cell_type": "code",
   "execution_count": 6,
   "metadata": {},
   "outputs": [],
   "source": [
    "# Задание 1.2\n",
    "\n",
    "phrase_1 = '640Кб должно хватить для любых задач. Билл Гейтс (по легенде)'"
   ]
  },
  {
   "cell_type": "code",
   "execution_count": 7,
   "metadata": {},
   "outputs": [],
   "source": [
    "phrase_2 = 'Насколько проще было бы писать программы, если бы не заказчики'"
   ]
  },
  {
   "cell_type": "code",
   "execution_count": 16,
   "metadata": {},
   "outputs": [
    {
     "data": {
      "text/plain": [
       "True"
      ]
     },
     "execution_count": 16,
     "metadata": {},
     "output_type": "execute_result"
    }
   ],
   "source": [
    "len('Насколько проще было бы писать программы, если бы не заказчики') >  len('640Кб должно хватить для любых задач. Билл Гейтс (по легенде)')"
   ]
  },
  {
   "cell_type": "code",
   "execution_count": 11,
   "metadata": {},
   "outputs": [],
   "source": [
    "# Задание 1.3\n",
    "\n",
    "phrase_1 = 'Насколько проще было бы писать программы, если бы не заказчики'"
   ]
  },
  {
   "cell_type": "code",
   "execution_count": 12,
   "metadata": {},
   "outputs": [],
   "source": [
    "phrase_2 = 'Насколько проще было бы писать программы, если бы не заказчики'"
   ]
  },
  {
   "cell_type": "code",
   "execution_count": 17,
   "metadata": {},
   "outputs": [
    {
     "data": {
      "text/plain": [
       "True"
      ]
     },
     "execution_count": 17,
     "metadata": {},
     "output_type": "execute_result"
    }
   ],
   "source": [
    "len(phrase_1) == len(phrase_2)"
   ]
  },
  {
   "cell_type": "code",
   "execution_count": 1,
   "metadata": {},
   "outputs": [
    {
     "name": "stdout",
     "output_type": "stream",
     "text": [
      "Leap_Year\n"
     ]
    }
   ],
   "source": [
    "# Задание 2.1 \n",
    "\n",
    "x=2000\n",
    "if ((x%4 == 0 and x%100 !=0) or (x%400 ==0)):\n",
    "    print ('Leap_Year')\n",
    "else:\n",
    "    print ('Not_Leap')\n",
    "    "
   ]
  },
  {
   "cell_type": "code",
   "execution_count": 2,
   "metadata": {},
   "outputs": [
    {
     "name": "stdout",
     "output_type": "stream",
     "text": [
      "Not_Leap\n"
     ]
    }
   ],
   "source": [
    "# Задание 2.2\n",
    "\n",
    "x=2019\n",
    "if ((x%4 == 0 and x%100 !=0) or (x%400 ==0)):\n",
    "    print ('Leap_Year')\n",
    "else:\n",
    "    print ('Not_Leap')"
   ]
  },
  {
   "cell_type": "code",
   "execution_count": 11,
   "metadata": {},
   "outputs": [
    {
     "name": "stdout",
     "output_type": "stream",
     "text": [
      "Virgin\n"
     ]
    }
   ],
   "source": [
    "# Задание 3.1\n",
    "\n",
    "date = 30\n",
    "month = 'August'\n",
    "\n",
    "if month == 'March' and date > 22 or month == 'April' and date < 22:\n",
    "    print('Aries')\n",
    "elif month == 'April' and date > 22 or month == 'May' and date < 22:\n",
    "    print('Taurus')\n",
    "elif month == 'May' and date > 22 or month == 'June' and date < 22:\n",
    "    print('Gemimi')\n",
    "elif month == 'June' and date > 22 or month == 'July' and date < 22:\n",
    "    print('Cancer')\n",
    "elif month == 'July' and date > 22 or month == 'August' and date < 22:\n",
    "    print('Leo')\n",
    "elif month == 'August' and date > 22 or month == 'September' and date < 22:\n",
    "    print('Virgin')\n",
    "elif month == 'September' and date > 22 or month == 'October' and date < 22:\n",
    "    print('Libra')\n",
    "elif month == 'October' and date > 22 or month == 'November' and date < 22:\n",
    "    print('Scorpio')\n",
    "elif month == 'November' and date > 22 or month == 'December' and date < 22:\n",
    "    print('Sagittarius')\n",
    "elif month == 'December' and date > 22 or month == 'January' and date < 22:\n",
    "    print('Capricorn')\n",
    "elif month == 'January' and date > 22 or month == 'February' and date < 22:\n",
    "    print('Aquarius')\n",
    "elif month == 'February' and date > 22 or month == 'March' and date < 22:\n",
    "    print('Pisces')"
   ]
  },
  {
   "cell_type": "code",
   "execution_count": 17,
   "metadata": {},
   "outputs": [
    {
     "name": "stdout",
     "output_type": "stream",
     "text": [
      "Scorpio\n"
     ]
    }
   ],
   "source": [
    "# Задание 3.2\n",
    "\n",
    "date = 29\n",
    "month = 'October'\n",
    "\n",
    "if month == 'March' and date > 22 or month == 'April' and date < 22:\n",
    "    print('Aries')\n",
    "elif month == 'April' and date > 22 or month == 'May' and date < 22:\n",
    "    print('Taurus')\n",
    "elif month == 'May' and date > 22 or month == 'June' and date < 22:\n",
    "    print('Gemimi')\n",
    "elif month == 'June' and date > 22 or month == 'July' and date < 22:\n",
    "    print('Cancer')\n",
    "elif month == 'July' and date > 22 or month == 'August' and date < 22:\n",
    "    print('Leo')\n",
    "elif month == 'August' and date > 22 or month == 'September' and date < 22:\n",
    "    print('Virgin')\n",
    "elif month == 'September' and date > 22 or month == 'October' and date < 22:\n",
    "    print('Libra')\n",
    "elif month == 'October' and date > 22 or month == 'November' and date < 22:\n",
    "    print('Scorpio')\n",
    "elif month == 'November' and date > 22 or month == 'December' and date < 22:\n",
    "    print('Sagittarius')\n",
    "elif month == 'December' and date > 22 or month == 'January' and date < 22:\n",
    "    print('Capricorn')\n",
    "elif month == 'January' and date > 22 or month == 'February' and date < 22:\n",
    "    print('Aquarius')\n",
    "elif month == 'February' and date > 22 or month == 'March' and date < 22:\n",
    "    print('Pisces')"
   ]
  },
  {
   "cell_type": "code",
   "execution_count": 24,
   "metadata": {},
   "outputs": [
    {
     "name": "stdout",
     "output_type": "stream",
     "text": [
      "Стандартная коробка № 3\n"
     ]
    }
   ],
   "source": [
    "# Задание 4.1\n",
    "\n",
    "width = 15\n",
    "length = 50\n",
    "height = 15\n",
    "\n",
    "if width < 15 and length < 15 and height < 15:\n",
    "    print('Коробка № 1')\n",
    "elif 15 < width < 50  or 15 < length < 50 or 15 < height < 50:\n",
    "    print('Коробка № 2')\n",
    "elif length > 200:\n",
    "    print('Упаковка для лыж')\n",
    "else:\n",
    "    print('Стандартная коробка № 3')"
   ]
  },
  {
   "cell_type": "code",
   "execution_count": 25,
   "metadata": {},
   "outputs": [
    {
     "name": "stdout",
     "output_type": "stream",
     "text": [
      "Упаковка для лыж\n"
     ]
    }
   ],
   "source": [
    "# Задание 4.2\n",
    "\n",
    "width = 45\n",
    "length = 205\n",
    "height = 45\n",
    "\n",
    "if width < 15 and length < 15 and height < 15:\n",
    "    print('Коробка № 1')\n",
    "elif 15 < width < 50  and 15 < length < 50 and 15 < height < 50:\n",
    "    print('Коробка № 2')\n",
    "elif length > 200:\n",
    "    print('Упаковка для лыж')\n",
    "else:\n",
    "    print('Стандартная коробка № 3')"
   ]
  }
 ],
 "metadata": {
  "kernelspec": {
   "display_name": "Python 3",
   "language": "python",
   "name": "python3"
  },
  "language_info": {
   "codemirror_mode": {
    "name": "ipython",
    "version": 3
   },
   "file_extension": ".py",
   "mimetype": "text/x-python",
   "name": "python",
   "nbconvert_exporter": "python",
   "pygments_lexer": "ipython3",
   "version": "3.8.5"
  }
 },
 "nbformat": 4,
 "nbformat_minor": 4
}
